{
  "nbformat": 4,
  "nbformat_minor": 0,
  "metadata": {
    "colab": {
      "provenance": []
    },
    "kernelspec": {
      "name": "python3",
      "display_name": "Python 3"
    },
    "language_info": {
      "name": "python"
    }
  },
  "cells": [
    {
      "cell_type": "code",
      "execution_count": null,
      "metadata": {
        "id": "6GGD38os5yHV"
      },
      "outputs": [],
      "source": []
    },
    {
      "cell_type": "markdown",
      "source": [],
      "metadata": {
        "id": "uBbu0xRTHdfs"
      }
    },
    {
      "cell_type": "markdown",
      "source": [
        "1 What are data structures, and why are they important\n",
        "   \n",
        "   -Data structures are ways to organize and store data in a computer so it can be accessed and updated efficiently. They are used in almost every program and software system.\n",
        "\n",
        "\n",
        "  Why are data structures important?\n",
        "\n",
        "Efficient data management: Data structures help manage large amounts of data efficiently.\n",
        "Faster programs: Understanding data structures can help you create programs that run faster.\n",
        "Memory optimization: Data structures can help you create programs that use less memory.\n",
        "Fundamental to computer science: Data structures are a core part of computer science education.\n",
        "\n",
        "\n",
        "\n",
        "\n",
        "2  Explain the difference between mutable and immutable data types with examples\n",
        "\n",
        "  -In programming, a mutable data type allows you to change its value after it's created, while an immutable data type cannot be modified once initialized; essentially, mutable data can be altered, while immutable data remains fixed.\n",
        "Example in Python:\n",
        "\n",
        "Mutable:\n",
        "\n",
        "List: my_list = [1, 2, 3]; you can later change an element like my_list[0] = 10.\n",
        "Dictionary: my_dict = {\"name\": \"Alice\"}; you can add or update key-value pairs.\n",
        "\n",
        "Immutable:\n",
        "\n",
        "String: my_string = \"Hello\"; trying to change a character within the string will result in an error.\n",
        "Tuple: my_tuple = (4, 5, 6).\n",
        "\n",
        "\n",
        "\n",
        "3 What are the main differences between lists and tuples in Python\n",
        "\n",
        "  -Here are the main differences between lists and tuples in Python:\n",
        "\n",
        "Mutability:\n",
        "\n",
        "Lists are mutable, meaning their elements can be changed after creation. Tuples are immutable, meaning their elements cannot be changed after creation.\n",
        "\n",
        "Syntax:\n",
        "\n",
        "Lists are defined using square brackets [], while tuples are defined using\n",
        " parentheses ().\n",
        "\n",
        "Memory Usage:\n",
        "\n",
        "Tuples are generally more memory-efficient than lists because of their immutability.\n",
        "Performance:\n",
        "Tuples are generally faster than lists when iterating over their elements due to optimizations related to their immutability.\n",
        "\n",
        "\n",
        " 4 Describe how dictionaries store data\n",
        "\n",
        "   -A dictionary stores data in \"key-value pairs,\" meaning each piece of information is associated with a unique identifier called a \"key\" which allows for quick access to its corresponding \"value\"; essentially acting like a lookup table where you can retrieve data by providing the relevant key, making it an efficient way to store and retrieve data based on specific identifiers.\n",
        "\n",
        "   5 Why might you use a set instead of a list in Python\n",
        "\n",
        "  -A set is preferred over a list in Python primarily when dealing with uniqueness and membership testing. Sets, by definition, store only unique elements, automatically eliminating duplicates. This feature is useful when processing data where redundancy is not desired. Additionally, sets are optimized for fast membership testing, making them efficient for checking if an element exists within the collection\n"
      ],
      "metadata": {
        "id": "Z__KvzQJ6fE3"
      }
    },
    {
      "cell_type": "markdown",
      "source": [
        "6) What is a string in Python, and how is it different from a list\n",
        "   \n",
        "   in Python, a string is an ordered sequence of characters enclosed in quotes (single or double), representing textual data, while a list is an ordered collection of items (which can be different data types like numbers, strings, etc.) enclosed in square brackets, allowing for more flexibility in storing and modifying data; the key difference is that strings are immutable (cannot be changed once created) while lists are mutable (can be modified after creation).\n",
        "\n",
        "\n",
        "7 How do tuples ensure data integrity in Python\n",
        "\n",
        "   Tuples in Python ensure data integrity through their immutability. Once a tuple is created, its elements cannot be modified, added, or removed. This characteristic guarantees that the data within a tuple remains constant throughout its lifecycle, preventing accidental or unauthorized changes.\n",
        "\n",
        "\n",
        "8 What is a hash table, and how does it relate to dictionaries in Python\n",
        "\n",
        "   A hash table is a data structure that stores key-value pairs where the key is used to quickly access the associated value through a special function called a \"hash function\"; in Python, a dictionary is essentially an implementation of a hash table, meaning it uses the hash table concept to store and retrieve data efficiently by mapping keys to their corresponding values.\n",
        "\n",
        "9 Can lists contain different data types in Python\n",
        "\n",
        "Yes, a list in Python can contain elements of different data types. Python lists are heterogeneous, meaning they can store a mix of integers, floats, strings, booleans, and even other lists or more complex objects within the same list. This flexibility is a key feature of Python and makes lists a versatile data structure.\n",
        "\n",
        "\n",
        "10 Explain why strings are immutable in Python\n",
        "\n",
        "Python strings are \"immutable\" which means they cannot be changed after they are created (Java strings also use this immutable style). Since strings can't be changed, we construct *new* strings as we go to represent computed values\n",
        "\n",
        "11 What advantages do dictionaries offer over lists for certain tasks\n",
        "\n",
        "Dictionaries offer a significant advantage over lists when you need to quickly look up a specific value based on a unique key, making them ideal for tasks where fast access to data associated with a particular identifier is crucial, unlike lists which require iterating through elements to find a match; this is often described as \"key-value\" access and results in much faster lookup times compared to searching through a list.\n",
        "\n",
        "12 Describe a scenario where using a tuple would be preferable over a list\n",
        "\n",
        "A scenario where a tuple would be preferable over a list is when you need to store a collection of data that should never be modified, like representing fixed coordinates in a game, storing a set of constant values for a calculation, or defining a user's immutable profile information where the data should remain unchanged once set; because tuples are immutable, meaning their contents cannot be altered after creation, ensuring data integrity in such\n",
        "\n",
        "\n",
        " 13 How do sets handle duplicate values in Python\n",
        "\n",
        "\n",
        " Using Sets\n",
        "Sets in Python, by definition, do not allow duplicate elements. This characteristic can be leveraged to efficiently remove duplicates from a list.\n",
        "\n",
        "14 How does the “in” keyword work differently for lists and dictionaries\n",
        "\n",
        "\n",
        "When using the \"in\" keyword in Python, it checks if a value exists within a data structure, but with lists, it checks if the value is present as an element within the list, while with dictionaries, it checks if the value is present as a key in the dictionary; meaning \"in\" only looks at the keys in a dictionary, not the values.\n",
        "\n",
        "15 Can you modify the elements of a tuple? Explain why or why not\n",
        "\n",
        "\n",
        "No, you cannot modify the elements of a tuple because tuples are \"immutable\" in most programming languages, meaning once created, their elements cannot be changed, added, or removed; if you need to modify data, you should use a list instead which is mutable\n",
        "\n",
        "16 What is a nested dictionary, and give an example of its use case\n",
        "\n",
        "A nested dictionary is a data structure where a dictionary itself is used as a value within another dictionary, creating a hierarchy of key-value pairs within a single dictionary; essentially, it's a dictionary inside another dictionary, allowing for multi-level data organization.\n",
        "\n",
        "\n",
        "17 Describe the time complexity of accessing elements in a dictionary\n",
        "\n",
        "Accessing an element in a dictionary typically has a time complexity of O(1), meaning it takes a constant amount of time to retrieve a value based on its key, regardless of the size of the dictionary, due to the efficient hashing mechanism used to store key-value pairs.\n",
        "\n",
        "\n",
        "18 In what situations are lists preferred over dictionaries\n",
        "\n",
        "\n",
        "For quick data look-ups, configurations, or caches, favor dictionaries. For ordered collections and sequence operations, such as maintaining a stack or queue, lists are more suitable\n",
        "\n",
        "19 Why are dictionaries considered unordered, and how does that affect data retrieval\n",
        "\n",
        "Dictionaries are considered unordered because they don't maintain the order of items based on when they were added. This means that you can't refer to an item by using an index.\n",
        "\n",
        "\n",
        "20 Explain the difference between a list and a dictionary in terms of data retrieval.\n",
        "\n",
        "\n",
        "A list stores data as an ordered sequence of items, accessed by their index position, while a dictionary stores data as key-value pairs, allowing you to retrieve specific information by using a unique \"key\" to access its associated \"value\" - making lists ideal for ordered data retrieval, while dictionaries are better for quick lookups based on specific identifiers.\n",
        ""
      ],
      "metadata": {
        "id": "1FtR3vhkHfIa"
      }
    },
    {
      "cell_type": "code",
      "source": [],
      "metadata": {
        "colab": {
          "base_uri": "https://localhost:8080/",
          "height": 36
        },
        "id": "qYruMihHNrUz",
        "outputId": "cb3e1d93-ce34-4981-8e01-dba7741cf573"
      },
      "execution_count": 3,
      "outputs": [
        {
          "output_type": "execute_result",
          "data": {
            "text/plain": [
              "'\\nname = \"prem\"\\nprint(name)\\n\\n\\n'"
            ],
            "application/vnd.google.colaboratory.intrinsic+json": {
              "type": "string"
            }
          },
          "metadata": {},
          "execution_count": 3
        }
      ]
    },
    {
      "cell_type": "code",
      "source": [
        " Write a code to find the length of the string \"Hello World\n",
        "\n",
        " '''\n",
        "\n",
        "\n",
        "string = \"Hello World\"\n",
        "length = len(string)\n",
        "print(\"The length of the string 'Hello World' is:\", length)\n",
        "\n",
        "'''"
      ],
      "metadata": {
        "id": "H77O7-qWOr_3"
      },
      "execution_count": null,
      "outputs": []
    },
    {
      "cell_type": "code",
      "source": [
        " Write a code to slice the first 3 characters from the string \"Python Programming\"P\n",
        "\n",
        " '''\n",
        " text = \"Python programming\"\n",
        "sliced_text = text[0:3]\n",
        "print(sliced_text)\n",
        "\n",
        "'''"
      ],
      "metadata": {
        "id": "4VF4GzdCPJG2"
      },
      "execution_count": null,
      "outputs": []
    },
    {
      "cell_type": "code",
      "source": [
        " Write a code to convert the string \"hello\" to uppercase\n",
        "\n",
        " '''\n",
        " string = \"Hello\"\n",
        "uppercase_string = string.upper()\n",
        "print(uppercase_string)\n",
        "\n",
        "'''\n"
      ],
      "metadata": {
        "id": "k91BLCjKPmRs"
      },
      "execution_count": null,
      "outputs": []
    },
    {
      "cell_type": "code",
      "source": [
        " Write a code to replace the word \"apple\" with \"orange\" in the string \"I like apple\"\n",
        "\n",
        " '''\n",
        " original_string = \"I like apple\"\n",
        "new_string = original_string.replace(\"apple\", \"orange\")\n",
        "\n",
        "print(new_string)\n",
        "\n",
        "'''\n"
      ],
      "metadata": {
        "id": "MCFMVi8gP6hd"
      },
      "execution_count": null,
      "outputs": []
    },
    {
      "cell_type": "code",
      "source": [
        " Write a code to create a list with numbers 1 to 5 and print it\n",
        "\n",
        " '''\n",
        " numbers = list(range(1, 6))\n",
        "print(numbers)\n",
        "\n",
        "'''"
      ],
      "metadata": {
        "id": "rfSWnABOQPAN"
      },
      "execution_count": null,
      "outputs": []
    },
    {
      "cell_type": "code",
      "source": [
        " Write a code to append the number 10 to the list [1, 2, 3, 4]\n",
        "\n",
        "\n",
        " '''\n",
        " my_list = [1, 2, 3, 4]\n",
        "my_list.append(10)\n",
        "print(my_list)\n",
        "\n",
        "'''"
      ],
      "metadata": {
        "id": "2LO904MbQxcN"
      },
      "execution_count": null,
      "outputs": []
    },
    {
      "cell_type": "code",
      "source": [
        " Write a code to remove the number 3 from the list [1, 2, 3, 4, 5]\n",
        "\n",
        " '''\n",
        "\n",
        " my_list = [1, 2, 3, 4, 5]\n",
        "my_list.remove(3)\n",
        "print(my_list)\n",
        "\n",
        "'''\n",
        "\n",
        "\n",
        "\n",
        "\n",
        "\n",
        "\n"
      ],
      "metadata": {
        "id": "f7VVq6VxQ9jd"
      },
      "execution_count": null,
      "outputs": []
    },
    {
      "cell_type": "code",
      "source": [
        " Write a code to access the second element in the list ['a', 'b', 'c', 'd']\n",
        "\n",
        " '''\n",
        "\n",
        " my_list = ['a', 'b', 'c', 'd']\n",
        "second_element = my_list[1]\n",
        "print(second_element)\n",
        "\n",
        "'''\n"
      ],
      "metadata": {
        "id": "uuzSXCJERTpu"
      },
      "execution_count": null,
      "outputs": []
    },
    {
      "cell_type": "code",
      "source": [
        "Write a code to reverse the list [10, 20, 30, 40, 50]\n",
        "\n",
        "'''\n",
        "\n",
        "my_list = [10, 20, 30, 40, 50]\n",
        "reversed_list = my_list[::-1]\n",
        "print(reversed_list)\n",
        "\n",
        "'''\n"
      ],
      "metadata": {
        "id": "m8MrWwLFReHU"
      },
      "execution_count": null,
      "outputs": []
    },
    {
      "cell_type": "code",
      "source": [
        ". Write a code to create a tuple with the elements 100, 200, 300 and print it\n",
        "\n",
        "'''\n",
        "\n",
        "my_tuple = (100, 200, 300)\n",
        "print(my_tuple)\n",
        "\n",
        "'''\n"
      ],
      "metadata": {
        "id": "b9dfa10nRoWe"
      },
      "execution_count": null,
      "outputs": []
    },
    {
      "cell_type": "code",
      "source": [
        "12. Write a code to access the second-to-last element of the tuple ('red', 'green', 'blue', 'yellow')\n",
        "\n",
        "'''\n",
        "\n",
        "my_tuple = ('red', 'green', 'blue', 'yellow')\n",
        "second_to_last_element = my_tuple[-2]\n",
        "print(second_to_last_element)\n",
        "\n",
        "'''\n"
      ],
      "metadata": {
        "id": "Vw3LcMuBRyrm"
      },
      "execution_count": null,
      "outputs": []
    },
    {
      "cell_type": "code",
      "source": [
        "13. Write a code to find the minimum number in the tuple (10, 20, 5, 15).\n",
        "\n",
        "'''\n",
        "\n",
        "my_tuple = (10, 20, 5, 15)\n",
        "minimum_number = min(my_tuple)\n",
        "print(minimum_number)\n",
        "\n",
        "'''"
      ],
      "metadata": {
        "id": "oM4sXoqUR5cd"
      },
      "execution_count": null,
      "outputs": []
    },
    {
      "cell_type": "code",
      "source": [
        "14. Write a code to find the index of the element \"cat\" in the tuple ('dog', 'cat', 'rabbit').\n",
        "\n",
        "'''\n",
        "\n",
        "my_tuple = ('dog', 'cat', 'rabbit')\n",
        "index = my_tuple.index('cat')\n",
        "print(index)\n",
        "\n",
        "'''\n"
      ],
      "metadata": {
        "id": "MybsQBd2SCTs"
      },
      "execution_count": null,
      "outputs": []
    },
    {
      "cell_type": "code",
      "source": [
        "15. Write a code to create a tuple containing three different fruits and check if \"kiwi\" is in it\n",
        "\n",
        "\n",
        "'''\n",
        "\n",
        "fruits = ('apple', 'banana', 'cherry')\n",
        "if 'kiwi' in fruits:\n",
        "    print(\"kiwi is in the tuple\")\n",
        "else:\n",
        "    print(\"kiwi is not in the tuple\")\n",
        "\n",
        "'''"
      ],
      "metadata": {
        "id": "Y5kBvrq_SKiN"
      },
      "execution_count": null,
      "outputs": []
    },
    {
      "cell_type": "code",
      "source": [
        "16. Write a code to create a set with the elements 'a', 'b', 'c' and print it.\n",
        "\n",
        "\n",
        "'''\n",
        "my_list = [\"A\", \"B\", \"C\"]\n",
        "print(my_list)\n",
        "\n",
        "'''\n",
        "\n"
      ],
      "metadata": {
        "id": "oFdl0A4WSUQc"
      },
      "execution_count": null,
      "outputs": []
    },
    {
      "cell_type": "code",
      "source": [
        "17. Write a code to clear all elements from the set {1, 2, 3, 4, 5}.\n",
        "\n",
        "'''\n",
        "\n",
        "my_set = {1, 2, 3, 4, 5}\n",
        "my_set.clear()\n",
        "print(my_set)\n",
        "\n",
        "'''"
      ],
      "metadata": {
        "id": "jRCHtx6zSyPF"
      },
      "execution_count": null,
      "outputs": []
    },
    {
      "cell_type": "code",
      "source": [
        "18. Write a code to remove the element 4 from the set {1, 2, 3, 4}.\n",
        "\n",
        "\n",
        "\n",
        "'''\n",
        "\n",
        "my_set = {1, 2, 3, 4}\n",
        "my_set.remove(4)\n",
        "print(my_set)\n",
        "\n",
        "'''\n",
        "\n"
      ],
      "metadata": {
        "id": "tKcbKqBoS8m7"
      },
      "execution_count": null,
      "outputs": []
    },
    {
      "cell_type": "code",
      "source": [
        "19. Write a code to find the union of two sets {1, 2, 3} and {3, 4, 5}.\n",
        "\n",
        "\n",
        "'''\n",
        "\n",
        "set1 = {1, 2, 3}\n",
        "set2 = {3, 4, 5}\n",
        "union_set = set1.union(set2)\n",
        "print(union_set)\n",
        "\n",
        "'''\n",
        "\n",
        "\n"
      ],
      "metadata": {
        "id": "PLCMP8dpTZgT"
      },
      "execution_count": null,
      "outputs": []
    },
    {
      "cell_type": "code",
      "source": [
        "20. Write a code to find the intersection of two sets {1, 2, 3} and {2, 3, 4}.\n",
        "\n",
        "\n",
        "\n",
        "\n",
        "'''\n",
        "\n",
        "\n",
        "set1 = {1, 2, 3}\n",
        "set2 = {2, 3, 4}\n",
        "\n",
        "intersection = set1 & set2  # Using the intersection operator (&)\n",
        "\n",
        "print(intersection)\n",
        "\n",
        "\n",
        "'''\n",
        "\n",
        "\n",
        "\n"
      ],
      "metadata": {
        "id": "LpwNV3CfTuV0"
      },
      "execution_count": null,
      "outputs": []
    },
    {
      "cell_type": "code",
      "source": [
        "21. Write a code to create a dictionary with the keys \"name\", \"age\", and \"city\", and print it.\n",
        "\n",
        "\n",
        "'''\n",
        "\n",
        "my_dict = {\n",
        "    \"name\": \"John\",\n",
        "    \"age\": 25,\n",
        "    \"city\": \"New York\"\n",
        "}\n",
        "print(my_dict)\n",
        "\n",
        "'''"
      ],
      "metadata": {
        "id": "t1yamUZTULik"
      },
      "execution_count": null,
      "outputs": []
    },
    {
      "cell_type": "code",
      "source": [
        "22. Write a code to add a new key-value pair \"country\": \"USA\" to the dictionary {'name': 'John', 'age': 25}.\n",
        "\n",
        "\n",
        "'''\n",
        "\n",
        "my_dict = {'name': 'John', 'age': 25}\n",
        "my_dict['country'] = 'USA'\n",
        "print(my_dict)\n",
        "\n",
        "'''\n"
      ],
      "metadata": {
        "id": "GcD3WHa_URZ0"
      },
      "execution_count": null,
      "outputs": []
    },
    {
      "cell_type": "code",
      "source": [
        "23. Write a code to access the value associated with the key \"name\" in the dictionary {'name': 'Alice', 'age': 30}\n",
        "\n",
        "'''\n",
        "\n",
        "my_dict = {'name': 'Alice', 'age': 30}\n",
        "name_value = my_dict['name']\n",
        "print(name_value)\n",
        "\n",
        "'''"
      ],
      "metadata": {
        "id": "8CCY4RDhUZc0"
      },
      "execution_count": null,
      "outputs": []
    },
    {
      "cell_type": "code",
      "source": [
        "24. Write a code to remove the key \"age\" from the dictionary {'name': 'Bob', 'age': 22, 'city': 'New York'}.\n",
        "\n",
        "'''\n",
        "\n",
        "my_dict = {'name': 'Bob', 'age': 22, 'city': 'New York'}\n",
        "del my_dict['age']\n",
        "print(my_dict)\n",
        "\n",
        "'''"
      ],
      "metadata": {
        "id": "MBuXMktTUfu8"
      },
      "execution_count": null,
      "outputs": []
    },
    {
      "cell_type": "code",
      "source": [
        "25. Write a code to check if the key \"city\" exists in the dictionary {'name': 'Alice', 'city': 'Paris'}.\n",
        "\n",
        "\n",
        "'''\n",
        "\n",
        "my_dict = {'name': 'Alice', 'city': 'Paris'}\n",
        "if 'city' in my_dict:\n",
        "    print(\"The key 'city' exists in the dictionary.\")\n",
        "else:\n",
        "    print(\"The key 'city' does not exist in the dictionary.\")\n",
        "\n",
        "'''"
      ],
      "metadata": {
        "id": "L2NmbFa1Uqac"
      },
      "execution_count": null,
      "outputs": []
    },
    {
      "cell_type": "code",
      "source": [
        "26. Write a code to create a list, a tuple, and a dictionary, and print them all.\n",
        "\n",
        "\n",
        "'''\n",
        "\n",
        "my_list = [1, 2, 3, 4, 5]\n",
        "my_tuple = (10, 20, 30, 40, 50)\n",
        "\n",
        "'''"
      ],
      "metadata": {
        "id": "1V2UacuTUyBT"
      },
      "execution_count": null,
      "outputs": []
    },
    {
      "cell_type": "code",
      "source": [
        "27. Write a code to create a list of 5 random numbers between 1 and 100, sort it in ascending order, and print the\n",
        "result.(replaced)\n",
        "\n",
        "\n",
        "'''\n",
        "\n",
        "import random\n",
        "\n",
        "random_numbers = [random.randint(1, 100) for _ in range(5)]\n",
        "random_numbers.sort()\n",
        "print(random_numbers)\n",
        "\n",
        "'''\n",
        "\n"
      ],
      "metadata": {
        "id": "pd_ZUnlRU6JU"
      },
      "execution_count": null,
      "outputs": []
    },
    {
      "cell_type": "code",
      "source": [
        "28. Write a code to create a list with strings and print the element at the third index\n",
        "\n",
        "\n",
        "\n",
        "'''\n",
        "\n",
        "my_list = [\"apple\", \"banana\", \"cherry\", \"date\", \"elderberry\"]\n",
        "third_element = my_list[2]\n",
        "print(third_element)\n",
        "\n",
        "'''\n",
        "\n",
        "\n"
      ],
      "metadata": {
        "id": "1OR9h-WmVC_-"
      },
      "execution_count": null,
      "outputs": []
    },
    {
      "cell_type": "code",
      "source": [
        "29. Write a code to combine two dictionaries into one and print the result.\n",
        "\n",
        "\n",
        "\n",
        "\n",
        "'''\n",
        "\n",
        "dict1 = {'a': 1, 'b': 2}\n",
        "dict2 = {'c': 3, 'd': 4}\n",
        "combined_dict = {**dict1, **dict2}\n",
        "print(combined_dict)\n",
        "\n",
        "'''\n",
        "\n",
        "\n"
      ],
      "metadata": {
        "id": "2aE0F9piVNQu"
      },
      "execution_count": null,
      "outputs": []
    },
    {
      "cell_type": "code",
      "source": [
        "30. Write a code to convert a list of strings into a set.\n",
        "\n",
        "\n",
        "\n",
        "\n",
        "'''\n",
        "\n",
        "\n",
        "ef string_to_set(string):\n",
        "    \"\"\"\n",
        "    Converts a string to a set, where each character in the string is a unique element in the set.\n",
        "\n",
        "    Args:\n",
        "        string: The input string.\n",
        "\n",
        "    Returns:\n",
        "        A set containing the individual characters from the string.\n",
        "    \"\"\"\n",
        "    return set(string)\n",
        "\n",
        "    '''\n",
        "\n"
      ],
      "metadata": {
        "id": "9oxRlrpAVW7D"
      },
      "execution_count": null,
      "outputs": []
    }
  ]
}